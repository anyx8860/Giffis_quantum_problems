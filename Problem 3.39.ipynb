{
 "cells": [
  {
   "cell_type": "code",
   "execution_count": 1,
   "metadata": {
    "hide_input": true
   },
   "outputs": [],
   "source": [
    "import matplotlib.pyplot as plt\n",
    "import numpy as np\n",
    "from math import *\n",
    "import pandas as pd\n",
    "from sympy import *"
   ]
  },
  {
   "cell_type": "markdown",
   "metadata": {},
   "source": [
    "# Problem 3.39\n",
    "**(a)** For a function *f(x)* that can be expanded in a Taylor series, show that \n",
    "\n",
    "$$f(x + x_0)=e^{i\\hat{p}x_0/\\hbar}f(x)$$\n",
    "\n",
    "(where *x_0* is any constant distance). For this reason, $$\\hat{p}/\\hbar$$ is called the **generator of translations in space.** *Note:* The exponential of an *operator* is defined by the power series expansion: \n",
    "$$e^{\\hat{Q}}\\equiv1+\\hat{Q}+(1/2)\\hat{Q}^2+(1/3!)\\hat{Q}^3+\\cdots$$"
   ]
  },
  {
   "cell_type": "markdown",
   "metadata": {},
   "source": [
    "### Answere:\n",
    "\n",
    "the momentum opperator eauls\n",
    "\n",
    "$$\\hat{p} = i\\hbar\\frac{d}{dx}$$\n",
    "thus\n",
    "$$e^{i\\hat{p}x_0/\\hbar}f(x)=e^{-x_0\\frac{d}{dx}}f(x)$$\n",
    "If we where able to expand the expotential by the taylor series we get\n",
    "$$e^{-x_0\\frac{d}{dx}}f(x) = (1-x_0\\frac{d}{dx}+(1/2)x_0^2\\frac{d^2}{dx^2}-(1/3!)x_0^3\\frac{d^3}{dx^3}+\\cdots)f(x)=f(x)-x_0f'(x)+(1/2)x_0^2f''(x)-(1/3!)x_0^3f'''(x)+\\cdots$$\n",
    "note that \n",
    "$$-x_0=x-x-x_0$$\n",
    "replace \n",
    "\n",
    "$$f(x)+(x-x-x_0)f'(x)+(1/2)(x-x-x_0)^2f''(x)+(1/3!)(x-x-x_0)^3f'''(x)+\\cdots$$\n",
    "This taylor series of \n",
    "$$f(x)+(x-x-x_0)f'(x)+(1/2)(x-x-x_0)^2f''(x)+(1/3!)(x-x-x_0)^3f'''(x)+\\cdots\\equiv f(x + x_0)$$"
   ]
  },
  {
   "cell_type": "markdown",
   "metadata": {},
   "source": [
    "**(b)** If $$\\Psi(x, t+t_0)$$ satifies the (time-dependent) Schrodinger equation, show that \n",
    "$$\\Psi(x,t+t_0)=e^{-i\\hat{H}t_0/\\hbar}\\Psi(x,t)$$\n",
    "(where t_0 is any constant time); $$-\\hat{H}/h$$ is called the **generator of translations in time**."
   ]
  },
  {
   "cell_type": "markdown",
   "metadata": {},
   "source": [
    "### Answere\n",
    "\n",
    "not that the hamiltonian equals\n",
    "$$\\hat{H}=i\\hbar\\frac{d}{dt}$$\n",
    "\n",
    "replace and take the taylor serias of the exponetial\n",
    "$$e^{-i\\hat{H}t_0/\\hbar}\\Psi(x,t)=e^{t_0\\frac{d}{dx}}\\Psi(x,t)=(1+t_0\\frac{d}{dt}+(1/2)t_0^2\\frac{d^2}{dt^2}+(1/3!)t_0^3\\frac{d^2}{dt^2}+\\cdots)\\Psi(x,t)$$\n",
    "$$=\\Psi(x,t)+t_0\\Psi'(x,t)+(1/2)t_0^2\\Psi''(x,t)+(1/3!)t_0^3\\Psi'''(x,t)+\\cdots$$\n",
    "note that \n",
    "$$t_0 = t_0+t-t$$\n",
    "replace and note it is the taylor seiras of the function\n",
    "$$\\Psi(x,t)+(t_0+t-t)\\Psi'(x,t)+(1/2)(t_0+t-t)^2\\Psi''(x,t)+(1/3!)(t_0+t-t)^3\\Psi'''(x,t)+\\cdots\\equiv\\Psi(x,t+t_0)$$"
   ]
  },
  {
   "cell_type": "markdown",
   "metadata": {},
   "source": [
    "**(c)** Show that the expectation value of a dynamical variable Q(x,p,t), at time t+t_0 can be written\n",
    "$$<Q>_{t+t_0}=<\\Psi(x,t)|e^{i\\hat{H}t_0/\\hbar}\\hat{Q}(x,p,t+t_0)e^{-i\\hat{H}t_0/\\hbar}|\\Psi(x,t)>$$"
   ]
  },
  {
   "cell_type": "markdown",
   "metadata": {},
   "source": [
    "### Answere\n",
    "\n",
    "Using part d we get\n",
    "$$<Q>_{t+t_0}=<\\Psi(x,t+t_0)|\\hat{Q}(x,p,t+t_0)|\\Psi(x,t+t_0)>=<\\Psi(x,t)e^{-i\\hat{H}t_0/\\hbar}|\\hat{Q}(x,p,t+t_0)|e^{-i\\hat{H}t_0/\\hbar}\\Psi(x,t)>$$\n",
    "$$=<\\Psi(x,t)|e^{i\\hat{H}t_0/\\hbar}\\hat{Q}(x,p,t+t_0)e^{-i\\hat{H}t_0/\\hbar}|\\Psi(x,t)>$$"
   ]
  },
  {
   "cell_type": "markdown",
   "metadata": {},
   "source": [
    "$$\\begin{bmatrix}.7 \\\\ .3\\end{bmatrix}$$"
   ]
  },
  {
   "cell_type": "code",
   "execution_count": null,
   "metadata": {},
   "outputs": [],
   "source": []
  }
 ],
 "metadata": {
  "kernelspec": {
   "display_name": "Python 3",
   "language": "python",
   "name": "python3"
  },
  "language_info": {
   "codemirror_mode": {
    "name": "ipython",
    "version": 3
   },
   "file_extension": ".py",
   "mimetype": "text/x-python",
   "name": "python",
   "nbconvert_exporter": "python",
   "pygments_lexer": "ipython3",
   "version": "3.7.1"
  }
 },
 "nbformat": 4,
 "nbformat_minor": 2
}
