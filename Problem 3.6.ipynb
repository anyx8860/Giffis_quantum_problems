{
 "cells": [
  {
   "cell_type": "code",
   "execution_count": 1,
   "metadata": {
    "hide_input": true
   },
   "outputs": [],
   "source": [
    "import matplotlib.pyplot as plt\n",
    "import numpy as np\n",
    "from math import *\n",
    "import pandas as pd\n",
    "from sympy import *"
   ]
  },
  {
   "cell_type": "markdown",
   "metadata": {},
   "source": [
    "# Problem 3.6\n",
    "consider the operator $$\\hat{Q}=d^2/d\\phi^2$$, where (as in Example 3.1) $$\\phi$$ is the azimutal angle in polar coordinates, and the functions are subject to Equation 3.26. Is $$\\hat{Q}$$ hermitian? Find its eigenfunctions and eigenvalues. What is the spectrum of $$\\hat{Q}$$? Is the spectrum degenerate?"
   ]
  },
  {
   "cell_type": "markdown",
   "metadata": {},
   "source": [
    "### Answere:\n",
    "for hermition we do:\n",
    " \n",
    "$$<f|\\hat{Q}g>=\\int_0^{2\\pi}f^*\\frac{d^2g}{d\\phi^2}d\\phi=|_0^{2\\pi}f^*\\frac{dg}{d\\phi}-\\int\\frac{df^*}{d\\phi}\\frac{dg}{d\\phi}d\\phi$$\n",
    "\n",
    "$$=|_0^{2\\pi}f^*\\frac{dg}{d\\phi}-g\\frac{df^*}{d\\phi}+\\int\\frac{d^2f^*}{d\\phi^2}gd\\phi$$\n",
    "since\n",
    "\n",
    "$$f(0)=f(2\\pi)\\;\\;and\\;\\;g(0)=g(2\\pi)\\;\\;and\\;\\;f'(0)=f'(2\\pi)\\;\\;and\\;\\;g'(0)=g'(2\\pi)\\Rightarrow|_0^{2\\pi}g'(\\phi)f(\\phi)-f'(\\phi)g(\\phi)=0$$\n",
    "hence\n",
    "$$|_0^{2\\pi}f^*\\frac{dg}{d\\phi}-g\\frac{df^*}{d\\phi}+\\int\\frac{d^2f^*}{d\\phi^2}gd\\phi=\\int_0^{2\\pi}\\frac{d^2f^*}{d\\phi^2}gd\\phi=<\\hat{Q}f|g>$$\n",
    "\n",
    "Thus is hermitian"
   ]
  },
  {
   "cell_type": "markdown",
   "metadata": {},
   "source": [
    "for the eigen function\n",
    "\n",
    "$$\\frac{d^2}{d\\phi^2}f(\\phi)=qf(\\phi)$$\n",
    "after solving the 2nd order differential equation we get\n",
    "$$f(\\phi)=Be^{\\sqrt{q}\\phi}+Ae^{-\\sqrt{q}\\phi}$$\n",
    "A graph of $$f(\\phi)$$"
   ]
  },
  {
   "cell_type": "code",
   "execution_count": 7,
   "metadata": {
    "hide_input": true
   },
   "outputs": [],
   "source": [
    "def f_phit(x):\n",
    "    return np.exp(x**(1/2))\n",
    "def f_phi_(x):\n",
    "    return np.exp(-x**(1/2))\n",
    "def f_phi(x):\n",
    "    return np.exp(-x**(1/2))+np.exp(x**(1/2))"
   ]
  },
  {
   "cell_type": "code",
   "execution_count": 10,
   "metadata": {
    "hide_input": true
   },
   "outputs": [
    {
     "data": {
      "image/png": "[encoded data removed]",
      "text/plain": [
       "<Figure size 432x288 with 1 Axes>"
      ]
     },
     "metadata": {
      "needs_background": "light"
     },
     "output_type": "display_data"
    }
   ],
   "source": [
    "x = np.arange(0, 2*np.pi, .2)\n",
    "yt = [f_phit(i) for i in x]\n",
    "y_ = [f_phi_(i) for i in x]\n",
    "y = [f_phi(i) for i in x]\n",
    "plt.plot(x, yt, color= 'blue', label = 'e^-(x^(1/2))')\n",
    "plt.plot(x,y_, color = 'red', label = 'e^(x^(1/2))')\n",
    "plt.plot(x,y, color = 'green', linestyle='dashed', label = 'e^(x^(1/2))+e^-(x^(1/2))')\n",
    "plt.grid()\n",
    "plt.legend()\n",
    "plt.show()"
   ]
  },
  {
   "cell_type": "markdown",
   "metadata": {},
   "source": [
    "Thus\n",
    "$$q=[0, \\infty)$$\n",
    "This is degenerate"
   ]
  },
  {
   "cell_type": "code",
   "execution_count": null,
   "metadata": {},
   "outputs": [],
   "source": []
  }
 ],
 "metadata": {
  "kernelspec": {
   "display_name": "Python 3",
   "language": "python",
   "name": "python3"
  },
  "language_info": {
   "codemirror_mode": {
    "name": "ipython",
    "version": 3
   },
   "file_extension": ".py",
   "mimetype": "text/x-python",
   "name": "python",
   "nbconvert_exporter": "python",
   "pygments_lexer": "ipython3",
   "version": "3.7.3"
  }
 },
 "nbformat": 4,
 "nbformat_minor": 2
}
