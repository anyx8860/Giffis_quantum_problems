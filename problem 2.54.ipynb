{
 "cells": [
  {
   "cell_type": "code",
   "execution_count": 2,
   "metadata": {},
   "outputs": [],
   "source": [
    "import matplotlib.pyplot as plt\n",
    "import numpy as np\n",
    "from math import *\n",
    "import pandas as pd\n",
    "from sympy import *"
   ]
  },
  {
   "cell_type": "markdown",
   "metadata": {},
   "source": [
    "# Problem 2.54\n",
    "Find the ground state energy of the harmonic oscillator, to five significant digits, by the \"wag-the-dog\" method. That is, solve Equation 2.72 numerically, varying *K* until you get a wave function that goes to zero at large $$\\xi$$.  In Mathematica, appropriate input code would be\n",
    "\n",
    "**Plot[Evaluate[u]/.[NDSolve[{u\"[x]-(X^2 - K)*u[x]==0, u[0] == 1, u'[0] == 0}, u[x], {x, 10^-8, 10}, MaxSteps -> 10000]], {x, a, b}, PlotRange -> {c, d}];**\n",
    "\n",
    "(Here (a, b) is the horizontal range of the graph, and (c, d) is the vertical range start with a = 0, b = 10, c = -10, d = 10) We know that the correct solution is K = 1, so you might start with a \"guess\" of K = 0.9. Notice what the \"tail\" of the wave function does. Now try K = 1.1, and note that the tail flips over. Somewhere in between those values lies the correct solution. Zero in on it by bracketing K tighter and tighter. As you do so, you may want to adjust a, b, c, and d, to zero in on the cross-over point."
   ]
  },
  {
   "cell_type": "code",
   "execution_count": 3,
   "metadata": {
    "hide_input": true
   },
   "outputs": [],
   "source": [
    "def derivative(f,a,method='central',h=0.01):\n",
    "    '''Compute the difference formula for f'(a) with step size h.\n",
    "\n",
    "    Parameters\n",
    "    ----------\n",
    "    f : function\n",
    "        Vectorized function of one variable\n",
    "    a : number\n",
    "        Compute derivative at x = a\n",
    "    method : string\n",
    "        Difference formula: 'forward', 'backward' or 'central'\n",
    "    h : number\n",
    "        Step size in difference formula\n",
    "\n",
    "    Returns\n",
    "    -------\n",
    "    float\n",
    "        Difference formula:\n",
    "            central: f(a+h) - f(a-h))/2h\n",
    "            forward: f(a+h) - f(a))/h\n",
    "            backward: f(a) - f(a-h))/h            \n",
    "    '''\n",
    "    if method == 'central':\n",
    "        return (f(a + h) - f(a - h))/(2*h)\n",
    "    elif method == 'forward':\n",
    "        return (f(a + h) - f(a))/h\n",
    "    elif method == 'backward':\n",
    "        return (f(a) - f(a - h))/h\n",
    "    else:\n",
    "        raise ValueError(\"Method must be 'central', 'forward' or 'backward'.\")"
   ]
  },
  {
   "cell_type": "markdown",
   "metadata": {},
   "source": [
    "### Answere:\n",
    "$$\\Psi^{\"}(x) - (x^2 - K)\\Psi(x) = 0$$\n",
    "is"
   ]
  },
  {
   "cell_type": "code",
   "execution_count": 4,
   "metadata": {
    "hide_input": true
   },
   "outputs": [
    {
     "data": {
      "text/latex": [
       "$\\displaystyle 4 x^{2} e^{- x^{2}} - 2 e^{- x^{2}}$"
      ],
      "text/plain": [
       "4*x**2*exp(-x**2) - 2*exp(-x**2)"
      ]
     },
     "execution_count": 4,
     "metadata": {},
     "output_type": "execute_result"
    }
   ],
   "source": [
    "x = Symbol('x')\n",
    "f_x_p = exp(-x**(2)).diff(x).diff(x)\n",
    "f_p = lambda x :f_x_P\n",
    "f_x_p"
   ]
  },
  {
   "cell_type": "code",
   "execution_count": 5,
   "metadata": {},
   "outputs": [],
   "source": [
    "def harmonic_osilator(i, k):\n",
    "#     f_x_p = f_x.diff(x).diff(x)\n",
    "#     f_p \n",
    "    return (4*((i)**2)*(np.exp(-((i)**2)))) - (2*np.exp(-((i)**2))) - ((((i)**2) - k)*np.exp(-((i)**2)))"
   ]
  },
  {
   "cell_type": "code",
   "execution_count": 6,
   "metadata": {},
   "outputs": [
    {
     "data": {
      "image/png": "[encoded data removed]",
      "text/plain": [
       "<Figure size 432x288 with 1 Axes>"
      ]
     },
     "metadata": {
      "needs_background": "light"
     },
     "output_type": "display_data"
    }
   ],
   "source": [
    "x = np.arange(-10, 10, .002)\n",
    "# x = np.arange(-10, 10)\n",
    "y = harmonic_osilator(1.5, 1.1)\n",
    "y = [harmonic_osilator(i, 1.1) for i in list(x)]\n",
    "# y\n",
    "plt.plot(x, y)\n",
    "plt.show()"
   ]
  },
  {
   "cell_type": "code",
   "execution_count": 7,
   "metadata": {},
   "outputs": [],
   "source": [
    "start = harmonic_osilator(-10, .9)\n",
    "x_i = -10\n",
    "k_i = .9\n",
    "for k in np.arange(.9, 1.1, .01):\n",
    "    for i in x:\n",
    "        n = harmonic_osilator(i, k)\n",
    "        if(abs(n) < abs(start)):\n",
    "            start = abs(n)\n",
    "            x_i = i\n",
    "            k_i = k\n",
    "    "
   ]
  },
  {
   "cell_type": "code",
   "execution_count": 8,
   "metadata": {},
   "outputs": [
    {
     "name": "stdout",
     "output_type": "stream",
     "text": [
      "-10 0.9\n"
     ]
    }
   ],
   "source": [
    "print(x_i, k_i)"
   ]
  },
  {
   "cell_type": "code",
   "execution_count": 9,
   "metadata": {},
   "outputs": [
    {
     "data": {
      "text/plain": [
       "1.1119307092326281e-41"
      ]
     },
     "execution_count": 9,
     "metadata": {},
     "output_type": "execute_result"
    }
   ],
   "source": [
    "harmonic_osilator(-10, .9)"
   ]
  },
  {
   "cell_type": "code",
   "execution_count": 12,
   "metadata": {},
   "outputs": [
    {
     "data": {
      "text/plain": [
       "1.1085826408542094e-41"
      ]
     },
     "execution_count": 12,
     "metadata": {},
     "output_type": "execute_result"
    }
   ],
   "source": [
    "harmonic_osilator(-10, 0)"
   ]
  },
  {
   "cell_type": "code",
   "execution_count": null,
   "metadata": {},
   "outputs": [],
   "source": []
  }
 ],
 "metadata": {
  "kernelspec": {
   "display_name": "Python 3",
   "language": "python",
   "name": "python3"
  },
  "language_info": {
   "codemirror_mode": {
    "name": "ipython",
    "version": 3
   },
   "file_extension": ".py",
   "mimetype": "text/x-python",
   "name": "python",
   "nbconvert_exporter": "python",
   "pygments_lexer": "ipython3",
   "version": "3.7.1"
  }
 },
 "nbformat": 4,
 "nbformat_minor": 2
}
